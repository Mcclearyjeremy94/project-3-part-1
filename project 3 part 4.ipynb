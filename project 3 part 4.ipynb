{
 "cells": [
  {
   "cell_type": "code",
   "execution_count": 17,
   "id": "62138931",
   "metadata": {},
   "outputs": [
    {
     "data": {
      "text/plain": [
       "['tmdb_api_results_2010.json',\n",
       " 'final_tmdb_data_2018.csv.gz',\n",
       " 'final_tmdb_data_2014.csv.gz',\n",
       " 'final_tmdb_data_2016.csv.gz',\n",
       " 'tmdb_api_results_2011.json',\n",
       " 'tmdb_api_results_2016.json',\n",
       " 'tmdb_api_results_2000.json',\n",
       " 'final_tmdb_data_2000.csv.gz',\n",
       " 'final_tmdb_data_2012.csv.gz',\n",
       " 'tmdb_api_results_2001.json',\n",
       " 'final_tmdb_data_2010.csv.gz',\n",
       " 'title_basics.csv.gz',\n",
       " 'tmdb_api_results_2017.json',\n",
       " 'tmdb_api_results_2018.json',\n",
       " 'final_tmdb_data_2019.csv.gz',\n",
       " 'tmdb_api_results_2014.json',\n",
       " 'final_tmdb_data_2015.csv.gz',\n",
       " 'tmdb_api_results_2015.json',\n",
       " 'final_tmdb_data_2017.csv.gz',\n",
       " 'tmdb_api_results_2019.json',\n",
       " 'final_tmdb_data_2001.csv.gz',\n",
       " '.ipynb_checkpoints',\n",
       " 'final_tmdb_data_2013.csv.gz',\n",
       " 'tmdb_api_results_2012.json',\n",
       " 'title_akas.csv.gz',\n",
       " 'Data',\n",
       " 'titleR.csv.gz',\n",
       " 'tmdb_api_results_2013.json',\n",
       " 'final_tmdb_data_2011.csv.gz']"
      ]
     },
     "execution_count": 17,
     "metadata": {},
     "output_type": "execute_result"
    }
   ],
   "source": [
    "import pandas as pd\n",
    "import numpy as np\n",
    "import os, time,json\n",
    "import tmdbsimple as tmdb\n",
    "from tqdm.notebook import tqdm_notebook\n",
    "FOLDER = \"Data/\"\n",
    "os.makedirs(FOLDER, exist_ok=True)\n",
    "os.listdir(FOLDER)"
   ]
  },
  {
   "cell_type": "code",
   "execution_count": 18,
   "id": "e4fc8e0b",
   "metadata": {},
   "outputs": [],
   "source": [
    "df_2000 = pd.read_csv('Data/final_tmdb_data_2000.csv.gz')\n",
    "df_2001 = pd.read_csv('Data/final_tmdb_data_2001.csv.gz')\n",
    "df = pd.concat([df_2000,df_2001] )"
   ]
  },
  {
   "cell_type": "code",
   "execution_count": 19,
   "id": "0df22e52",
   "metadata": {},
   "outputs": [],
   "source": [
    "Pgrating= df[df['certification']=='PG']"
   ]
  },
  {
   "cell_type": "code",
   "execution_count": 20,
   "id": "d4ca7c31",
   "metadata": {},
   "outputs": [
    {
     "data": {
      "text/plain": [
       "imdb_id    adult  backdrop_path                     belongs_to_collection                                                                                                                                    budget       genres                                                                                                                                                                      homepage                                                             id       original_language  original_title                            overview                                                                                                                                                                                                                                                                                                                                                                                                                                                                                                                                                                                                                                                                                                                                     popularity  poster_path                       production_companies                                                                                                                                                                                                                                                                                                                                                                                                                                                                                                                                                                                 production_countries                                                                                        release_date  revenue      runtime  spoken_languages                                                                                                                                                                                           status    tagline                              title                                     video  vote_average  vote_count  certification\n",
       "tt0126029  0.0    /bNTHSd3UqqLzIVwbDOGPnx3ScfF.jpg  {'id': 2150, 'name': 'Shrek Collection', 'poster_path': '/qNHZMe92A7Pyl46qUH29hVOtbSK.jpg', 'backdrop_path': '/gMWrKQjoTIpYjhc8SxZF20EDIES.jpg'}         60000000.0   [{'id': 16, 'name': 'Animation'}, {'id': 35, 'name': 'Comedy'}, {'id': 14, 'name': 'Fantasy'}, {'id': 12, 'name': 'Adventure'}, {'id': 10751, 'name': 'Family'}]            http://www.dreamworksanimation.com/shrek/                            808.0    en                 Shrek                                     It ain't easy bein' green -- especially if you're a likable (albeit smelly) ogre named Shrek. On a mission to retrieve a gorgeous princess from the clutches of a fire-breathing dragon, Shrek teams up with an unlikely compatriot -- a wisecracking donkey.                                                                                                                                                                                                                                                                                                                                                                                                                                                                                211.270     /o04jZs5SXhbvhqO4981W7KJXOWZ.jpg  [{'id': 7, 'logo_path': '/vru2SssLX3FPhnKZGtYw00pVIS9.png', 'name': 'DreamWorks Pictures', 'origin_country': 'US'}, {'id': 520, 'logo_path': '/pU7YTI9FfrICurXpl5V9TfCO0oJ.png', 'name': 'Pacific Data Images', 'origin_country': 'US'}, {'id': 521, 'logo_path': '/kP7t6RwGz2AvvTkvnI1uteEwHet.png', 'name': 'DreamWorks Animation', 'origin_country': 'US'}]                                                                                                                                                                                                                                       [{'iso_3166_1': 'US', 'name': 'United States of America'}]                                                  2001-05-18    487853320.0  90.0     [{'english_name': 'English', 'iso_639_1': 'en', 'name': 'English'}]                                                                                                                                        Released  The greatest fairy tale never told.  Shrek                                     0.0    7.712         14828.0     PG               1\n",
       "tt0230011  0.0    /fYr0fqT9NImOuaN1QgnDHgGh4Ci.jpg  {'id': 100965, 'name': 'Atlantis Collection', 'poster_path': '/8Dx5iuGhol3eqVUzLK9CQEWj7G4.jpg', 'backdrop_path': '/vJOfi2m9yaQGu7LPRcBL44KDU7r.jpg'}    120000000.0  [{'id': 16, 'name': 'Animation'}, {'id': 10751, 'name': 'Family'}, {'id': 12, 'name': 'Adventure'}, {'id': 878, 'name': 'Science Fiction'}]                                 http://www.disney.com/atlantis                                       10865.0  en                 Atlantis: The Lost Empire                 The world's most highly qualified crew of archaeologists and explorers is led by historian Milo Thatch as they board the incredible 1,000-foot submarine Ulysses and head deep into the mysteries of the sea. The underwater expedition takes an unexpected turn when the team's mission must switch from exploring Atlantis to protecting it.                                                                                                                                                                                                                                                                                                                                                                                               26.510      /8fUEFPUTF7kBMuKPiSQHxPvd8EZ.jpg  [{'id': 2, 'logo_path': '/wdrCwmRnLFJhEoH8GSfymY85KHT.png', 'name': 'Walt Disney Pictures', 'origin_country': 'US'}, {'id': 171656, 'logo_path': None, 'name': 'Walt Disney Feature Animation', 'origin_country': 'US'}]                                                                                                                                                                                                                                                                                                                                                                             [{'iso_3166_1': 'US', 'name': 'United States of America'}]                                                  2001-06-02    186053725.0  95.0     [{'english_name': 'English', 'iso_639_1': 'en', 'name': 'English'}, {'english_name': 'French', 'iso_639_1': 'fr', 'name': 'Français'}, {'english_name': 'Spanish', 'iso_639_1': 'es', 'name': 'Español'}]  Released  Atlantis is waiting...               Atlantis: The Lost Empire                 0.0    6.969         4126.0      PG               1\n",
       "tt0239395  0.0    /rKKMM7YbDXdB6V7V1hmOTQQtYCq.jpg  {'id': 87014, 'name': 'Cats & Dogs Collection', 'poster_path': '/3mb7yUgq4BPdqhPpBKAX4QLetby.jpg', 'backdrop_path': '/bYM1XFABSpy0QtAEzr7dks8QRWY.jpg'}  60000000.0   [{'id': 10751, 'name': 'Family'}, {'id': 35, 'name': 'Comedy'}]                                                                                                             http://catsanddogsmovie.warnerbros.com/cmp/main.html                 10992.0  en                 Cats & Dogs                               When a professor develops a vaccine that eliminates human allergies to dogs, he unwittingly upsets the fragile balance of power between cats and dogs and touches off an epic battle for pet supremacy. The fur flies as the feline faction, led by Mr. Tinkles, squares off against wide-eyed puppy Lou and his canine cohorts.                                                                                                                                                                                                                                                                                                                                                                                                             22.644      /rM6qLVhApXiXYjMuzSFOESUiVaJ.jpg  [{'id': 79, 'logo_path': '/tpFpsqbleCzEE2p5EgvUq6ozfCA.png', 'name': 'Village Roadshow Pictures', 'origin_country': 'US'}, {'id': 172, 'logo_path': None, 'name': 'NPV Entertainment', 'origin_country': 'US'}, {'id': 174, 'logo_path': '/IuAlhI9eVC9Z8UQWOIDdWRKSEJ.png', 'name': 'Warner Bros. Pictures', 'origin_country': 'US'}, {'id': 1757, 'logo_path': None, 'name': 'Mad Chance', 'origin_country': 'US'}, {'id': 3169, 'logo_path': None, 'name': 'Zide-Perry Productions', 'origin_country': ''}, {'id': 6363, 'logo_path': None, 'name': 'BenderSpink', 'origin_country': ''}]          [{'iso_3166_1': 'US', 'name': 'United States of America'}]                                                  2001-07-04    93375151.0   87.0     [{'english_name': 'English', 'iso_639_1': 'en', 'name': 'English'}, {'english_name': 'Italian', 'iso_639_1': 'it', 'name': 'Italiano'}]                                                                    Released  Things Are Gonna Get Hairy!          Cats & Dogs                               0.0    5.381         1417.0      PG               1\n",
       "tt0241527  0.0    /5jkE2SzR5uR2egEb1rRhF22JyWN.jpg  {'id': 1241, 'name': 'Harry Potter Collection', 'poster_path': '/eVPs2Y0LyvTLZn6AP5Z6O2rtiGB.jpg', 'backdrop_path': '/4gV0rKUjB1nLUdZB4zIltLvNZZr.jpg'}  125000000.0  [{'id': 12, 'name': 'Adventure'}, {'id': 14, 'name': 'Fantasy'}]                                                                                                            https://www.warnerbros.com/movies/harry-potter-and-sorcerers-stone/  671.0    en                 Harry Potter and the Philosopher's Stone  Harry Potter has lived under the stairs at his aunt and uncle's house his whole life. But on his 11th birthday, he learns he's a powerful wizard—with a place waiting for him at the Hogwarts School of Witchcraft and Wizardry. As he learns to harness his newfound powers with the help of the school's kindly headmaster, Harry uncovers the truth about his parents' deaths—and about the villain who's to blame.                                                                                                                                                                                                                                                                                                                       210.418     /wuMc08IPKEatf9rnMNXvIDxqP4W.jpg  [{'id': 174, 'logo_path': '/IuAlhI9eVC9Z8UQWOIDdWRKSEJ.png', 'name': 'Warner Bros. Pictures', 'origin_country': 'US'}, {'id': 436, 'logo_path': '/A7WCkG3F0NFvjGCwUnclpGdIu9E.png', 'name': '1492 Pictures', 'origin_country': 'US'}, {'id': 437, 'logo_path': '/nu20mtwbEIhUNnQ5NXVhHsNknZj.png', 'name': 'Heyday Films', 'origin_country': 'GB'}]                                                                                                                                                                                                                                                  [{'iso_3166_1': 'GB', 'name': 'United Kingdom'}, {'iso_3166_1': 'US', 'name': 'United States of America'}]  2001-11-16    976475550.0  152.0    [{'english_name': 'English', 'iso_639_1': 'en', 'name': 'English'}]                                                                                                                                        Released  Let the magic begin.                 Harry Potter and the Philosopher's Stone  0.0    7.917         23996.0     PG               1\n",
       "tt0287635  0.0    /2Ut5lSVXDr2MvuTNa7VgBqTzap3.jpg  {'id': 34055, 'name': 'Pokémon Collection', 'poster_path': '/oUdOt0VbJQnkLwOiQLPJLxH8oCA.jpg', 'backdrop_path': '/xQM02GXLgC0HxMHOCUIxTsjzi1O.jpg'}      0.0          [{'id': 12, 'name': 'Adventure'}, {'id': 14, 'name': 'Fantasy'}, {'id': 16, 'name': 'Animation'}, {'id': 878, 'name': 'Science Fiction'}, {'id': 10751, 'name': 'Family'}]  https://www.miramax.com/movie/pokemon-iv-4ever/                      12600.0  ja                 劇場版ポケットモンスター セレビィ 時を超えた遭遇                 40 years ago, a Celebi was being attacked by a Pokemon Hunter. Luckily, a young boy named Yukinari saved Celebi. Using its Time Traveling power, Celebi transported itself and Yukinari 40 years into the future. There, Satoshi, Kasumi, and Takeshi assist Yukinari to the healing lake in the forest so they can heal the wounded Celebi. Unfortunately an evil Team Rocket member, Vicious, tries to capture Celebi using his technology. As Satoshi and Co. try to get away from Vicious, they also run into Musashi, Kojiro, and Nyarth, who also want to capture Celebi. Soon it becomes a race against time to get Celebi and Yukinari back to the forest before Celebi is caught and is used to destroy the forest and themselves.  20.274      /4Vafl9UF5oCiZYOl9q1hh1uZosR.jpg  [{'id': 5261, 'logo_path': None, 'name': 'Shogakukan Production', 'origin_country': 'JP'}, {'id': 12288, 'logo_path': '/e4dQAqZD374H5EuM0W1ljEBWTKy.png', 'name': 'Nintendo', 'origin_country': 'JP'}, {'id': 12653, 'logo_path': None, 'name': 'Pikachu Project', 'origin_country': 'JP'}, {'id': 12654, 'logo_path': '/hBWpNb7x4R77xxltwNtM0ANboW6.png', 'name': 'The Pokémon Company', 'origin_country': 'JP'}, {'id': 89164, 'logo_path': None, 'name': 'Pikachu Project 2001', 'origin_country': ''}, {'id': 138863, 'logo_path': None, 'name': 'Pikachu Project 2002', 'origin_country': ''}]  [{'iso_3166_1': 'JP', 'name': 'Japan'}]                                                                     2001-07-06    28023563.0   75.0     [{'english_name': 'Japanese', 'iso_639_1': 'ja', 'name': '日本語'}]                                                                                                                                           Released  Best friends. Better heroes.         Pokémon 4Ever                             0.0    6.405         343.0       PG               1\n",
       "dtype: int64"
      ]
     },
     "execution_count": 20,
     "metadata": {},
     "output_type": "execute_result"
    }
   ],
   "source": [
    "Pgrating.value_counts()"
   ]
  },
  {
   "cell_type": "code",
   "execution_count": null,
   "id": "d924ffe5",
   "metadata": {},
   "outputs": [],
   "source": []
  }
 ],
 "metadata": {
  "kernelspec": {
   "display_name": "Python (dojo-env)",
   "language": "python",
   "name": "dojo-env"
  },
  "language_info": {
   "codemirror_mode": {
    "name": "ipython",
    "version": 3
   },
   "file_extension": ".py",
   "mimetype": "text/x-python",
   "name": "python",
   "nbconvert_exporter": "python",
   "pygments_lexer": "ipython3",
   "version": "3.9.15"
  },
  "toc": {
   "base_numbering": 1,
   "nav_menu": {},
   "number_sections": true,
   "sideBar": true,
   "skip_h1_title": false,
   "title_cell": "Table of Contents",
   "title_sidebar": "Contents",
   "toc_cell": false,
   "toc_position": {},
   "toc_section_display": true,
   "toc_window_display": false
  }
 },
 "nbformat": 4,
 "nbformat_minor": 5
}
