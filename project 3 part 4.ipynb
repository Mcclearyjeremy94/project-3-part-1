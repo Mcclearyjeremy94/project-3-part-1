{
 "cells": [
  {
   "cell_type": "code",
   "execution_count": 1,
   "id": "62138931",
   "metadata": {},
   "outputs": [],
   "source": [
    "import pandas as pd\n",
    "import numpy as np\n",
    "import os, time,json\n",
    "import tmdbsimple as tmdb\n",
    "from tqdm.notebook import tqdm_notebook\n",
    "FOLDER = \"Data/\"\n",
    "os.makedirs(FOLDER, exist_ok=True)\n",
    "os.listdir(FOLDER)\n",
    "import scipy.stats as stats\n",
    "import matplotlib.pyplot as plt\n",
    "import seaborn as sns"
   ]
  },
  {
   "cell_type": "code",
   "execution_count": 2,
   "id": "6a862d8d",
   "metadata": {},
   "outputs": [],
   "source": [
    "df_2000 = pd.read_csv('Data/final_tmdb_data_2000.csv.gz')\n",
    "df_2001 = pd.read_csv('Data/final_tmdb_data_2001.csv.gz')\n",
    "df = pd.concat([df_2000,df_2001] )"
   ]
  },
  {
   "cell_type": "code",
   "execution_count": 3,
   "id": "0df22e52",
   "metadata": {},
   "outputs": [],
   "source": [
    "Pgrating= df.loc[df['certification']=='PG',\"revenue\"]\n",
    "Pg13rating= df.loc[df['certification']=='PG-13',\"revenue\"]\n",
    "Rrating=df.loc[df['certification']=='R',\"revenue\"]\n",
    "Grating=df.loc[df['certification']=='G',\"revenue\"]\n",
    "NRrating=df.loc[df['certification']=='NR',\"revenue\"]"
   ]
  },
  {
   "cell_type": "code",
   "execution_count": 4,
   "id": "54132d01",
   "metadata": {},
   "outputs": [
    {
     "name": "stdout",
     "output_type": "stream",
     "text": [
      "For PG ratings(n=63): Mean=62583103.89\n",
      "For PG-13 ratings(n=183): Mean=71057113.56\n",
      "For R ratings(n=458): Mean=16605658.66\n",
      "For G ratings(n=24): Mean=72185327.04\n",
      "For NR ratings(n=70): Mean=2158419.93\n"
     ]
    }
   ],
   "source": [
    "print(f\"For PG ratings(n={len(Pgrating)}): Mean={np.mean(Pgrating):.2f}\")\n",
    "print(f\"For PG-13 ratings(n={len(Pg13rating)}): Mean={np.mean(Pg13rating):.2f}\")\n",
    "print(f\"For R ratings(n={len(Rrating)}): Mean={np.mean(Rrating):.2f}\")\n",
    "print(f\"For G ratings(n={len(Grating)}): Mean={np.mean(Grating):.2f}\")\n",
    "print(f\"For NR ratings(n={len(NRrating)}): Mean={np.mean(NRrating):.2f}\")"
   ]
  },
  {
   "cell_type": "code",
   "execution_count": 5,
   "id": "8f61aa21",
   "metadata": {},
   "outputs": [
    {
     "data": {
      "text/plain": [
       "5.3367088579091804e-20"
      ]
     },
     "execution_count": 5,
     "metadata": {},
     "output_type": "execute_result"
    }
   ],
   "source": [
    "result = stats.normaltest(Pgrating)\n",
    "result.pvalue"
   ]
  },
  {
   "cell_type": "code",
   "execution_count": 6,
   "id": "7a2b2124",
   "metadata": {},
   "outputs": [
    {
     "data": {
      "text/plain": [
       "7.619494371338404e-31"
      ]
     },
     "execution_count": 6,
     "metadata": {},
     "output_type": "execute_result"
    }
   ],
   "source": [
    "result = stats.normaltest(Pg13rating)\n",
    "result.pvalue"
   ]
  },
  {
   "cell_type": "code",
   "execution_count": 7,
   "id": "cb711b63",
   "metadata": {},
   "outputs": [
    {
     "data": {
      "text/plain": [
       "2.65983081636423e-103"
      ]
     },
     "execution_count": 7,
     "metadata": {},
     "output_type": "execute_result"
    }
   ],
   "source": [
    "result = stats.normaltest(Rrating)\n",
    "result.pvalue"
   ]
  },
  {
   "cell_type": "code",
   "execution_count": 8,
   "id": "2847c9f1",
   "metadata": {},
   "outputs": [
    {
     "data": {
      "text/plain": [
       "1.1968581356016258e-08"
      ]
     },
     "execution_count": 8,
     "metadata": {},
     "output_type": "execute_result"
    }
   ],
   "source": [
    "result = stats.normaltest(Grating)\n",
    "result.pvalue"
   ]
  },
  {
   "cell_type": "code",
   "execution_count": 9,
   "id": "4625f925",
   "metadata": {},
   "outputs": [
    {
     "data": {
      "text/plain": [
       "1.4734632498234388e-20"
      ]
     },
     "execution_count": 9,
     "metadata": {},
     "output_type": "execute_result"
    }
   ],
   "source": [
    "result = stats.normaltest(NRrating)\n",
    "result.pvalue"
   ]
  },
  {
   "cell_type": "code",
   "execution_count": 10,
   "id": "46ea4fae",
   "metadata": {},
   "outputs": [
    {
     "data": {
      "text/plain": [
       "Text(0.5, 1.0, 'Revenue by Rating')"
      ]
     },
     "execution_count": 10,
     "metadata": {},
     "output_type": "execute_result"
    },
    {
     "data": {
      "image/png": "[encoded data removed]",
      "text/plain": [
       "<Figure size 640x480 with 1 Axes>"
      ]
     },
     "metadata": {},
     "output_type": "display_data"
    }
   ],
   "source": [
    "sns.barplot(data=df, x='certification',y='revenue')\n",
    "plt.title('Revenue by Rating')"
   ]
  },
  {
   "cell_type": "code",
   "execution_count": 11,
   "id": "69f2c72a",
   "metadata": {},
   "outputs": [],
   "source": [
    "#Studies show that movies with a G rating have the highest revenue"
   ]
  },
  {
   "cell_type": "code",
   "execution_count": 20,
   "id": "2c44bf90",
   "metadata": {},
   "outputs": [],
   "source": [
    "pgmean=62583103.89\n",
    "pg13mean=71057113.56\n",
    "rmean=16605658.66\n",
    "gmean=72185327.04\n",
    "nrmean=2158419.93"
   ]
  },
  {
   "cell_type": "code",
   "execution_count": 22,
   "id": "c2a8a4d3",
   "metadata": {},
   "outputs": [
    {
     "data": {
      "text/plain": [
       "9602223.150000006"
      ]
     },
     "execution_count": 22,
     "metadata": {},
     "output_type": "execute_result"
    }
   ],
   "source": [
    "gmean-pgmean"
   ]
  },
  {
   "cell_type": "code",
   "execution_count": 23,
   "id": "453d4926",
   "metadata": {},
   "outputs": [
    {
     "data": {
      "text/plain": [
       "1128213.4800000042"
      ]
     },
     "execution_count": 23,
     "metadata": {},
     "output_type": "execute_result"
    }
   ],
   "source": [
    "gmean-pg13mean"
   ]
  },
  {
   "cell_type": "code",
   "execution_count": 24,
   "id": "d114249f",
   "metadata": {},
   "outputs": [
    {
     "data": {
      "text/plain": [
       "55579668.38000001"
      ]
     },
     "execution_count": 24,
     "metadata": {},
     "output_type": "execute_result"
    }
   ],
   "source": [
    "gmean-rmean"
   ]
  },
  {
   "cell_type": "code",
   "execution_count": 25,
   "id": "b52e20c3",
   "metadata": {},
   "outputs": [
    {
     "data": {
      "text/plain": [
       "70026907.11"
      ]
     },
     "execution_count": 25,
     "metadata": {},
     "output_type": "execute_result"
    }
   ],
   "source": [
    "gmean-nrmean"
   ]
  },
  {
   "cell_type": "code",
   "execution_count": null,
   "id": "346c5cd4",
   "metadata": {},
   "outputs": [],
   "source": []
  }
 ],
 "metadata": {
  "kernelspec": {
   "display_name": "Python (dojo-env)",
   "language": "python",
   "name": "dojo-env"
  },
  "language_info": {
   "codemirror_mode": {
    "name": "ipython",
    "version": 3
   },
   "file_extension": ".py",
   "mimetype": "text/x-python",
   "name": "python",
   "nbconvert_exporter": "python",
   "pygments_lexer": "ipython3",
   "version": "3.9.15"
  },
  "toc": {
   "base_numbering": 1,
   "nav_menu": {},
   "number_sections": true,
   "sideBar": true,
   "skip_h1_title": false,
   "title_cell": "Table of Contents",
   "title_sidebar": "Contents",
   "toc_cell": false,
   "toc_position": {},
   "toc_section_display": true,
   "toc_window_display": false
  }
 },
 "nbformat": 4,
 "nbformat_minor": 5
}
