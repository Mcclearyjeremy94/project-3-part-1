{
 "cells": [
  {
   "cell_type": "code",
   "execution_count": 31,
   "id": "62138931",
   "metadata": {},
   "outputs": [],
   "source": [
    "import pandas as pd\n",
    "import numpy as np\n",
    "import os, time,json\n",
    "import tmdbsimple as tmdb\n",
    "from tqdm.notebook import tqdm_notebook\n",
    "FOLDER = \"Data/\"\n",
    "os.makedirs(FOLDER, exist_ok=True)\n",
    "os.listdir(FOLDER)\n",
    "import scipy.stats as stats\n",
    "import matplotlib.pyplot as plt\n",
    "import seaborn as sns"
   ]
  },
  {
   "cell_type": "code",
   "execution_count": 32,
   "id": "6a862d8d",
   "metadata": {},
   "outputs": [],
   "source": [
    "df_2000 = pd.read_csv('Data/final_tmdb_data_2000.csv.gz')\n",
    "df_2001 = pd.read_csv('Data/final_tmdb_data_2001.csv.gz')\n",
    "df = pd.concat([df_2000,df_2001] )"
   ]
  },
  {
   "cell_type": "code",
   "execution_count": 33,
   "id": "0df22e52",
   "metadata": {},
   "outputs": [],
   "source": [
    "Pgrating= df.loc[df['certification']=='PG',\"revenue\"]\n",
    "Pg13rating= df.loc[df['certification']=='PG-13',\"revenue\"]\n",
    "Rrating=df.loc[df['certification']=='R',\"revenue\"]\n",
    "Grating=df.loc[df['certification']=='G',\"revenue\"]\n",
    "NRrating=df.loc[df['certification']=='NR',\"revenue\"]"
   ]
  },
  {
   "cell_type": "code",
   "execution_count": 34,
   "id": "54132d01",
   "metadata": {},
   "outputs": [
    {
     "name": "stdout",
     "output_type": "stream",
     "text": [
      "For PG ratings(n=63): Mean=62583103.89\n"
     ]
    }
   ],
   "source": [
    "print(f\"For PG ratings(n={len(Pgrating)}): Mean={np.mean(Pgrating):.2f}\")\n",
    "print(f\"For PG-13 ratings(n={len(Pg13rating)}): Mean={np.mean(Pg13rating):.2f}\")\n",
    "print(f\"For R ratings(n={len(Rrating)}): Mean={np.mean(Rrating):.2f}\")\n",
    "print(f\"For G ratings(n={len(Grating)}): Mean={np.mean(Grating):.2f}\")\n",
    "print(f\"For NR ratings(n={len(NRrating)}): Mean={np.mean(rating):.2f}\")"
   ]
  },
  {
   "cell_type": "code",
   "execution_count": null,
   "id": "8f61aa21",
   "metadata": {},
   "outputs": [],
   "source": []
  }
 ],
 "metadata": {
  "kernelspec": {
   "display_name": "Python (dojo-env)",
   "language": "python",
   "name": "dojo-env"
  },
  "language_info": {
   "codemirror_mode": {
    "name": "ipython",
    "version": 3
   },
   "file_extension": ".py",
   "mimetype": "text/x-python",
   "name": "python",
   "nbconvert_exporter": "python",
   "pygments_lexer": "ipython3",
   "version": "3.9.15"
  },
  "toc": {
   "base_numbering": 1,
   "nav_menu": {},
   "number_sections": true,
   "sideBar": true,
   "skip_h1_title": false,
   "title_cell": "Table of Contents",
   "title_sidebar": "Contents",
   "toc_cell": false,
   "toc_position": {},
   "toc_section_display": true,
   "toc_window_display": false
  }
 },
 "nbformat": 4,
 "nbformat_minor": 5
}
