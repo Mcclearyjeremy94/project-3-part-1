{
 "cells": [
  {
   "cell_type": "code",
   "execution_count": 14,
   "id": "86f246fd",
   "metadata": {},
   "outputs": [
    {
     "data": {
      "text/plain": [
       "['tmdb_api_results_2000.json',\n",
       " 'final_tmdb_data_2000.csv.gz',\n",
       " 'tmdb_api_results_2001.json',\n",
       " 'title_basics.csv.gz',\n",
       " 'final_tmdb_data_2001.csv.gz',\n",
       " '.ipynb_checkpoints',\n",
       " 'title_akas.csv.gz',\n",
       " 'Data',\n",
       " 'titleR.csv.gz']"
      ]
     },
     "execution_count": 14,
     "metadata": {},
     "output_type": "execute_result"
    }
   ],
   "source": [
    "import pandas as pd\n",
    "import numpy as np\n",
    "import os, time,json\n",
    "import tmdbsimple as tmdb\n",
    "from tqdm.notebook import tqdm_notebook\n",
    "FOLDER = \"Data/\"\n",
    "os.makedirs(FOLDER, exist_ok=True)\n",
    "os.listdir(FOLDER)"
   ]
  },
  {
   "cell_type": "code",
   "execution_count": 15,
   "id": "937635b3",
   "metadata": {},
   "outputs": [],
   "source": [
    "def write_json(new_data, filename):\n",
    "    \"\"\"Appends a list of records (new_data) to a json file(filename),\n",
    "    Adapted from://www.geeksforgeeks.org/append-to-json-file-using-python/\"\"\"\n",
    "    with open(filename,'r+') as file:\n",
    "        #first we load existing file into a dict\n",
    "        file_data = json.load(file)\n",
    "        ##choose extend or append\n",
    "        if (type(new_data) == list & type(file_data) == list):\n",
    "            file_data.extend(new_data)\n",
    "        else:\n",
    "            file_data.append(new_data)\n",
    "        # sets files current position at offset.\n",
    "        file.seek(0)\n",
    "        #convert back to json\n",
    "        json.dump(file_data, file)"
   ]
  },
  {
   "cell_type": "code",
   "execution_count": 19,
   "id": "24cd594a",
   "metadata": {},
   "outputs": [],
   "source": [
    "basics= pd.read_csv('Data/title_basics.csv.gz')"
   ]
  },
  {
   "cell_type": "code",
   "execution_count": 20,
   "id": "e70d970e",
   "metadata": {},
   "outputs": [],
   "source": [
    "YEARS_TO_GET = [2010,2011,2012]"
   ]
  },
  {
   "cell_type": "code",
   "execution_count": 21,
   "id": "7a6ab9b2",
   "metadata": {},
   "outputs": [],
   "source": [
    "errors = [ ]"
   ]
  },
  {
   "cell_type": "code",
   "execution_count": 22,
   "id": "1961a64c",
   "metadata": {},
   "outputs": [
    {
     "data": {
      "application/vnd.jupyter.widget-view+json": {
       "model_id": "bafa5dbcb64e4ab68f41fede28da674f",
       "version_major": 2,
       "version_minor": 0
      },
      "text/plain": [
       "YEARS:   0%|          | 0/3 [00:00<?, ?it/s]"
      ]
     },
     "metadata": {},
     "output_type": "display_data"
    },
    {
     "data": {
      "application/vnd.jupyter.widget-view+json": {
       "model_id": "15ae27d6e3694b90a412aac8fb86f932",
       "version_major": 2,
       "version_minor": 0
      },
      "text/plain": [
       "Movies from 2010:   0%|          | 0/3848 [00:00<?, ?it/s]"
      ]
     },
     "metadata": {},
     "output_type": "display_data"
    },
    {
     "data": {
      "application/vnd.jupyter.widget-view+json": {
       "model_id": "d735e05e12e34370b0d14df286483087",
       "version_major": 2,
       "version_minor": 0
      },
      "text/plain": [
       "Movies from 2011:   0%|          | 0/4224 [00:00<?, ?it/s]"
      ]
     },
     "metadata": {},
     "output_type": "display_data"
    },
    {
     "data": {
      "application/vnd.jupyter.widget-view+json": {
       "model_id": "18e9839c006446deb00ceadac4244b21",
       "version_major": 2,
       "version_minor": 0
      },
      "text/plain": [
       "Movies from 2012:   0%|          | 0/4510 [00:00<?, ?it/s]"
      ]
     },
     "metadata": {},
     "output_type": "display_data"
    }
   ],
   "source": [
    "# Start of OUTER loop\n",
    "for YEAR in tqdm_notebook(YEARS_TO_GET, desc='YEARS', position=0):\n",
    "    #Defining the JSON file to store results for year\n",
    "    JSON_FILE = f'{FOLDER}tmdb_api_results_{YEAR}.json'\n",
    "# Check if file exists\n",
    "    file_exists = os.path.isfile(JSON_FILE)\n",
    "# If it does not exist: create it\n",
    "    if file_exists == False:\n",
    "# save an empty dict with just \"imdb_id\" to the new json file.\n",
    "        with open(JSON_FILE,'w') as f:\n",
    "            json.dump([{'imdb_id':0}],f)\n",
    "#Saving new year as the current df\n",
    "    df = basics.loc[ basics['startYear']==YEAR].copy()\n",
    "# saving movie ids to list\n",
    "    movie_ids = df['tconst'].copy()\n",
    "# Load existing data from json into a dataframe called \"previous_df\"\n",
    "    previous_df = pd.read_json(JSON_FILE)\n",
    "# filter out any ids that are already in the JSON_FILE\n",
    "    movie_ids_to_get = movie_ids[~movie_ids.isin(previous_df['imdb_id'])]\n",
    "    #Get index and movie id from list\n",
    "    # INNER Loop\n",
    "    for movie_id in tqdm_notebook(movie_ids_to_get,\n",
    "                                  desc=f'Movies from {YEAR}',\n",
    "                                  position=1,\n",
    "                                  leave=True):\n",
    "        try:\n",
    "            # Retrieve then data for the movie id\n",
    "            temp = get_movie_with_rating(movie_id)  \n",
    "            # Append/extend results to existing file using a pre-made function\n",
    "            write_json(temp,JSON_FILE)\n",
    "            # Short 20 ms sleep to prevent overwhelming server\n",
    "            time.sleep(0.02)\n",
    "            \n",
    "        except Exception as e:\n",
    "            errors.append([movie_id, e])\n",
    "            \n",
    "    final_year_df= pd.read_json(JSON_FILE)\n",
    "    final_year_df.to_csv(f\"{FOLDER}final_tmdb_data_{YEAR}.csv.gz\",\n",
    "                            compression=\"gzip\", index=False)"
   ]
  },
  {
   "cell_type": "code",
   "execution_count": 27,
   "id": "cea24f72",
   "metadata": {},
   "outputs": [
    {
     "data": {
      "text/html": [
       "<div>\n",
       "<style scoped>\n",
       "    .dataframe tbody tr th:only-of-type {\n",
       "        vertical-align: middle;\n",
       "    }\n",
       "\n",
       "    .dataframe tbody tr th {\n",
       "        vertical-align: top;\n",
       "    }\n",
       "\n",
       "    .dataframe thead th {\n",
       "        text-align: right;\n",
       "    }\n",
       "</style>\n",
       "<table border=\"1\" class=\"dataframe\">\n",
       "  <thead>\n",
       "    <tr style=\"text-align: right;\">\n",
       "      <th></th>\n",
       "      <th>tconst</th>\n",
       "      <th>titleType</th>\n",
       "      <th>primaryTitle</th>\n",
       "      <th>originalTitle</th>\n",
       "      <th>isAdult</th>\n",
       "      <th>startYear</th>\n",
       "      <th>endYear</th>\n",
       "      <th>runtimeMinutes</th>\n",
       "      <th>genres</th>\n",
       "    </tr>\n",
       "  </thead>\n",
       "  <tbody>\n",
       "    <tr>\n",
       "      <th>1606</th>\n",
       "      <td>tt0249516</td>\n",
       "      <td>movie</td>\n",
       "      <td>Foodfight!</td>\n",
       "      <td>Foodfight!</td>\n",
       "      <td>0</td>\n",
       "      <td>2012.0</td>\n",
       "      <td>NaN</td>\n",
       "      <td>91</td>\n",
       "      <td>Action,Adventure,Animation</td>\n",
       "    </tr>\n",
       "    <tr>\n",
       "      <th>2794</th>\n",
       "      <td>tt0285252</td>\n",
       "      <td>movie</td>\n",
       "      <td>Bachelor Trip</td>\n",
       "      <td>Life's a Beach</td>\n",
       "      <td>0</td>\n",
       "      <td>2012.0</td>\n",
       "      <td>NaN</td>\n",
       "      <td>100</td>\n",
       "      <td>Comedy</td>\n",
       "    </tr>\n",
       "    <tr>\n",
       "      <th>3090</th>\n",
       "      <td>tt0293069</td>\n",
       "      <td>movie</td>\n",
       "      <td>Dark Blood</td>\n",
       "      <td>Dark Blood</td>\n",
       "      <td>0</td>\n",
       "      <td>2012.0</td>\n",
       "      <td>NaN</td>\n",
       "      <td>86</td>\n",
       "      <td>Thriller</td>\n",
       "    </tr>\n",
       "    <tr>\n",
       "      <th>4539</th>\n",
       "      <td>tt0337692</td>\n",
       "      <td>movie</td>\n",
       "      <td>On the Road</td>\n",
       "      <td>On the Road</td>\n",
       "      <td>0</td>\n",
       "      <td>2012.0</td>\n",
       "      <td>NaN</td>\n",
       "      <td>124</td>\n",
       "      <td>Adventure,Drama,Romance</td>\n",
       "    </tr>\n",
       "    <tr>\n",
       "      <th>6238</th>\n",
       "      <td>tt0383010</td>\n",
       "      <td>movie</td>\n",
       "      <td>The Three Stooges</td>\n",
       "      <td>The Three Stooges</td>\n",
       "      <td>0</td>\n",
       "      <td>2012.0</td>\n",
       "      <td>NaN</td>\n",
       "      <td>92</td>\n",
       "      <td>Comedy,Family</td>\n",
       "    </tr>\n",
       "    <tr>\n",
       "      <th>...</th>\n",
       "      <td>...</td>\n",
       "      <td>...</td>\n",
       "      <td>...</td>\n",
       "      <td>...</td>\n",
       "      <td>...</td>\n",
       "      <td>...</td>\n",
       "      <td>...</td>\n",
       "      <td>...</td>\n",
       "      <td>...</td>\n",
       "    </tr>\n",
       "    <tr>\n",
       "      <th>42164</th>\n",
       "      <td>tt2155369</td>\n",
       "      <td>movie</td>\n",
       "      <td>The Last Message</td>\n",
       "      <td>Rinjô</td>\n",
       "      <td>0</td>\n",
       "      <td>2012.0</td>\n",
       "      <td>NaN</td>\n",
       "      <td>129</td>\n",
       "      <td>Drama</td>\n",
       "    </tr>\n",
       "    <tr>\n",
       "      <th>42170</th>\n",
       "      <td>tt2156108</td>\n",
       "      <td>movie</td>\n",
       "      <td>Wishing Stone</td>\n",
       "      <td>Wishing Stone</td>\n",
       "      <td>0</td>\n",
       "      <td>2012.0</td>\n",
       "      <td>NaN</td>\n",
       "      <td>46</td>\n",
       "      <td>Drama</td>\n",
       "    </tr>\n",
       "    <tr>\n",
       "      <th>42171</th>\n",
       "      <td>tt2156284</td>\n",
       "      <td>movie</td>\n",
       "      <td>Phoenix</td>\n",
       "      <td>Phoenix</td>\n",
       "      <td>0</td>\n",
       "      <td>2012.0</td>\n",
       "      <td>NaN</td>\n",
       "      <td>86</td>\n",
       "      <td>Drama</td>\n",
       "    </tr>\n",
       "    <tr>\n",
       "      <th>42172</th>\n",
       "      <td>tt2156588</td>\n",
       "      <td>movie</td>\n",
       "      <td>Room 13 Part 2</td>\n",
       "      <td>Room 13 Part 2</td>\n",
       "      <td>0</td>\n",
       "      <td>2012.0</td>\n",
       "      <td>NaN</td>\n",
       "      <td>55</td>\n",
       "      <td>Comedy,Horror</td>\n",
       "    </tr>\n",
       "    <tr>\n",
       "      <th>42174</th>\n",
       "      <td>tt2156661</td>\n",
       "      <td>movie</td>\n",
       "      <td>Bad Guy</td>\n",
       "      <td>Bad Guy</td>\n",
       "      <td>0</td>\n",
       "      <td>2012.0</td>\n",
       "      <td>NaN</td>\n",
       "      <td>67</td>\n",
       "      <td>Action,Thriller</td>\n",
       "    </tr>\n",
       "  </tbody>\n",
       "</table>\n",
       "<p>2010 rows × 9 columns</p>\n",
       "</div>"
      ],
      "text/plain": [
       "          tconst titleType       primaryTitle      originalTitle  isAdult  \\\n",
       "1606   tt0249516     movie         Foodfight!         Foodfight!        0   \n",
       "2794   tt0285252     movie      Bachelor Trip     Life's a Beach        0   \n",
       "3090   tt0293069     movie         Dark Blood         Dark Blood        0   \n",
       "4539   tt0337692     movie        On the Road        On the Road        0   \n",
       "6238   tt0383010     movie  The Three Stooges  The Three Stooges        0   \n",
       "...          ...       ...                ...                ...      ...   \n",
       "42164  tt2155369     movie   The Last Message              Rinjô        0   \n",
       "42170  tt2156108     movie      Wishing Stone      Wishing Stone        0   \n",
       "42171  tt2156284     movie            Phoenix            Phoenix        0   \n",
       "42172  tt2156588     movie     Room 13 Part 2     Room 13 Part 2        0   \n",
       "42174  tt2156661     movie            Bad Guy            Bad Guy        0   \n",
       "\n",
       "       startYear  endYear  runtimeMinutes                      genres  \n",
       "1606      2012.0      NaN              91  Action,Adventure,Animation  \n",
       "2794      2012.0      NaN             100                      Comedy  \n",
       "3090      2012.0      NaN              86                    Thriller  \n",
       "4539      2012.0      NaN             124     Adventure,Drama,Romance  \n",
       "6238      2012.0      NaN              92               Comedy,Family  \n",
       "...          ...      ...             ...                         ...  \n",
       "42164     2012.0      NaN             129                       Drama  \n",
       "42170     2012.0      NaN              46                       Drama  \n",
       "42171     2012.0      NaN              86                       Drama  \n",
       "42172     2012.0      NaN              55               Comedy,Horror  \n",
       "42174     2012.0      NaN              67             Action,Thriller  \n",
       "\n",
       "[2010 rows x 9 columns]"
      ]
     },
     "execution_count": 27,
     "metadata": {},
     "output_type": "execute_result"
    }
   ],
   "source": [
    "df.head(2010)"
   ]
  },
  {
   "cell_type": "code",
   "execution_count": null,
   "id": "62345d1b",
   "metadata": {},
   "outputs": [],
   "source": []
  }
 ],
 "metadata": {
  "kernelspec": {
   "display_name": "Python (dojo-env)",
   "language": "python",
   "name": "dojo-env"
  },
  "language_info": {
   "codemirror_mode": {
    "name": "ipython",
    "version": 3
   },
   "file_extension": ".py",
   "mimetype": "text/x-python",
   "name": "python",
   "nbconvert_exporter": "python",
   "pygments_lexer": "ipython3",
   "version": "3.9.15"
  },
  "toc": {
   "base_numbering": 1,
   "nav_menu": {},
   "number_sections": true,
   "sideBar": true,
   "skip_h1_title": false,
   "title_cell": "Table of Contents",
   "title_sidebar": "Contents",
   "toc_cell": false,
   "toc_position": {},
   "toc_section_display": true,
   "toc_window_display": false
  }
 },
 "nbformat": 4,
 "nbformat_minor": 5
}
